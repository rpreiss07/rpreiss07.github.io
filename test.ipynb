{
 "cells": [
{
 "cell_type": "markdown",
 "id": "1",
 "metadata": { },
 "source": [
  "# Yanoya Data"
 ]
},

{
 "cell_type": "markdown",
 "id": "2",
 "metadata": { "tags": [ "tabs" ] },
 "source": [
  "## Data"
 ],
 "outputs": [],
 "execution_count": 0
},
{
 "cell_type": "markdown",
 "id": "3",
 "metadata": { },
 "source": [
  "### Data Source Python"
 ],
 "outputs": [],
 "execution_count": 0
},


{
 "cell_type": "code",
 "id": "4",
 "metadata": { "tags": [ "body" ]},
 "source": [
  "import json\n",
  "import altair as alt\n",
  "import numpy as np\n",
  "import pandas as pd\n",
  "\n",
  "yny_data_json = '''\n",
  "{\n",
  "    \"top\": {\n",
  "        \"name\": \"abc1\",\n",
  "        \"data\": [\n",
  "            {\n",
  "                \"label\": \"abc2\",\n",
  "                \"arr\": 0.11,\n",
  "                \"mrr\": -0.22\n",
  "            },\n",
  "            {\n",
  "                \"label\": \"abc3\",\n",
  "                \"arr\": 0.33,\n",
  "                \"mrr\": -0.44\n",
  "            },\n",
  "            {\n",
  "                \"label\": \"abc4\",\n",
  "                \"arr\": 0.55,\n",
  "                \"mrr\": -0.66\n",
  "            }\n",
  "        ]\n",
  "    }\n",
  "}\n",
  "'''\n",
  "\n",
  "yny_data_py = json.loads(yny_data_json)\n",
  "yny_data_py"
  ],
 "outputs": [],
 "execution_count": 0
},
{
 "cell_type": "markdown",
 "id": "5",
 "metadata": { },
 "source": [
  "### Helpers"
 ],
 "outputs": [],
 "execution_count": 0
},


{
 "cell_type": "code",
 "id": "6",
 "metadata": { "tags": [ "body" ]},
 "source": [
  "def yny_get(data, path):\n",
  "    path_parts = path.split(\"/\")\n",
  "    def yny_path_rec(data, path_parts):\n",
  "        if not path_parts:\n",
  "            return data\n",
  "        if isinstance(data, dict):\n",
  "            if path_parts[0] in data:\n",
  "                return yny_path_rec(data[path_parts[0]], path_parts[1:])\n",
  "        if isinstance(data, list):\n",
  "            if len(data)==1:\n",
  "                return yny_path_rec(data[0], path_parts[1:])\n",
  "        return None\n",
  "    return yny_path_rec(data, path_parts)\n",
  "\n",
  "def yny_get_list(data, path):\n",
  "    path_parts = path.split(\"/\")\n",
  "    def yny_path_rec(data, path_parts, ret):\n",
  "        if not path_parts:\n",
  "            if isinstance(data, list):\n",
  "                ret.extend(data)\n",
  "            else:\n",
  "                ret.append(data)\n",
  "            return\n",
  "        if isinstance(data, dict):\n",
  "            if path_parts[0] in data:\n",
  "                return yny_path_rec(data[path_parts[0]], path_parts[1:], ret)\n",
  "        if isinstance(data, list):\n",
  "            for el in data:\n",
  "                yny_path_rec(el, path_parts, ret)\n",
  "        return None\n",
  "    ret = []\n",
  "    yny_path_rec(data, path_parts, ret)\n",
  "    return ret"
  ],
 "outputs": [],
 "execution_count": 0
},
{
 "cell_type": "markdown",
 "id": "7",
 "metadata": { },
 "source": [
  "### JSON Format"
 ],
 "outputs": [],
 "execution_count": 0
},


{
 "cell_type": "code",
 "id": "8",
 "metadata": { "tags": [ "body" ]},
 "source": [
  "json.dumps(yny_data_py)"
  ],
 "outputs": [],
 "execution_count": 0
},
{
 "cell_type": "markdown",
 "id": "9",
 "metadata": { },
 "source": [
  "### YAML Format"
 ],
 "outputs": [],
 "execution_count": 0
},


{
 "cell_type": "code",
 "id": "10",
 "metadata": { "tags": [ "body" ]},
 "source": [
  "import yaml\n",
  "yny_data_yaml = yaml.dump(yny_data_py)\n",
  "print(yny_data_yaml,end=chr(10))"
  ],
 "outputs": [],
 "execution_count": 0
},
{
 "cell_type": "markdown",
 "id": "11",
 "metadata": { },
 "source": [
  "### Pandas Dataframe"
 ],
 "outputs": [],
 "execution_count": 0
},


{
 "cell_type": "code",
 "id": "12",
 "metadata": { "tags": [ "body" ]},
 "source": [
  "yny_data_df = pd.DataFrame({\n",
  "  'x': yny_get_list(yny_data_py, 'top/data/label'),\n",
  "  'y': yny_get_list(yny_data_py, 'top/data/arr')\n",
  "  \n",
  "})\n",
  "yny_data_df"
  ],
 "outputs": [],
 "execution_count": 0
},
{
 "cell_type": "markdown",
 "id": "13",
 "metadata": { },
 "source": [
  "### CSV Format"
 ],
 "outputs": [],
 "execution_count": 0
},


{
 "cell_type": "code",
 "id": "14",
 "metadata": { "tags": [ "body" ]},
 "source": [
  "print(yny_data_df.to_csv(index=False),end=chr(10))"
  ],
 "outputs": [],
 "execution_count": 0
},
{
 "cell_type": "markdown",
 "id": "15",
 "metadata": { },
 "source": [
  "### Line Chart"
 ],
 "outputs": [],
 "execution_count": 0
},


{
 "cell_type": "code",
 "id": "16",
 "metadata": { "tags": [ "body" ]},
 "source": [
  "chart = alt.Chart(yny_data_df).mark_line().encode(x='x',y='y')\n",
  "chart"
  ],
 "outputs": [],
 "execution_count": 0
},
{
 "cell_type": "markdown",
 "id": "17",
 "metadata": { },
 "source": [
  "### Line Chart"
 ],
 "outputs": [],
 "execution_count": 0
},


{
 "cell_type": "code",
 "id": "18",
 "metadata": { "tags": [ "body" ]},
 "source": [
  "chart = alt.Chart(yny_data_df).mark_arc().encode(\n",
  " theta=\"x\",\n",
  " color=\"y\"\n",
  ")\n",
  "chart"
  ],
 "outputs": [],
 "execution_count": 0
} ],
 "metadata": {
   "kernelspec": {
    "display_name": "Python 3 (ipykernel)",
    "language": "python",
    "name": "python3"
  }
 },
 "nbformat": 4,
 "nbformat_minor": 5
}
