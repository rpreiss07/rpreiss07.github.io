{
 "cells": [ 
{
 "cell_type": "markdown",
 "id": "1",
 "metadata": { },
 "source": [
  "# Yanoya Data"
 ],
 "outputs": [],
 "execution_count": 0
},

{
 "cell_type": "markdown",
 "id": "2",
 "metadata": { "tags": [ "tabs" ] },
 "source": [
  "## Data"
 ],
 "outputs": [],
 "execution_count": 0
},
{
 "cell_type": "markdown",
 "id": "3",
 "metadata": { },
 "source": [
  "### Data Source Python"
 ],
 "outputs": [],
 "execution_count": 0
},


{
 "cell_type": "code",
 "id": "4",
 "metadata": { "tags": [ "body" ]},
 "source": [
  "import json\n",
  "import altair as alt\n",
  "import numpy as np\n",
  "import pandas as pd\n",
  "\n",
  "yny_data_json = '''\n",
  "{\n",
  "    \"top\": {\n",
  "        \"samples\": [\n",
  "            {\n",
  "                \"name\": \"Battery (Lithium-Ion)\",\n",
  "                \"energy_density\": 0.3,\n",
  "                \"energy_density_unit\": \"kWh/kg\",\n",
  "                \"efficiency\": 90,\n",
  "                \"efficiency_unit\": \"%\",\n",
  "                \"effective_energy_density\": 27.0,\n",
  "                \"effective_energy_density_unit\": \"kWh/kg\",\n",
  "                \"weight_needed_for_500kwh\": 18.51851851851852,\n",
  "                \"weight_needed_for_500kwh_unit\": \"kg\"\n",
  "            },\n",
  "            {\n",
  "                \"name\": \"Hydrogen (Fuel Cell)\",\n",
  "                \"energy_density\": 33.6,\n",
  "                \"energy_density_unit\": \"kWh/kg\",\n",
  "                \"efficiency\": 60,\n",
  "                \"efficiency_unit\": \"%\",\n",
  "                \"effective_energy_density\": 2016.0,\n",
  "                \"effective_energy_density_unit\": \"kWh/kg\",\n",
  "                \"weight_needed_for_500kwh\": 0.24801587301587302,\n",
  "                \"weight_needed_for_500kwh_unit\": \"kg\"\n",
  "            },\n",
  "            {\n",
  "                \"name\": \"Diesel/Biodiesel (Diesel Engine)\",\n",
  "                \"energy_density\": 10,\n",
  "                \"energy_density_unit\": \"kWh/kg\",\n",
  "                \"efficiency\": 45,\n",
  "                \"efficiency_unit\": \"%\",\n",
  "                \"effective_energy_density\": 450,\n",
  "                \"effective_energy_density_unit\": \"kWh/kg\",\n",
  "                \"weight_needed_for_500kwh\": 1.1111111111111112,\n",
  "                \"weight_needed_for_500kwh_unit\": \"kg\"\n",
  "            },\n",
  "            {\n",
  "                \"name\": \"Bio Methanol\",\n",
  "                \"energy_density\": 5.5,\n",
  "                \"energy_density_unit\": \"kWh/kg\",\n",
  "                \"efficiency\": 40,\n",
  "                \"efficiency_unit\": \"%\",\n",
  "                \"effective_energy_density\": 220.0,\n",
  "                \"effective_energy_density_unit\": \"kWh/kg\",\n",
  "                \"weight_needed_for_500kwh\": 2.272727272727273,\n",
  "                \"weight_needed_for_500kwh_unit\": \"kg\"\n",
  "            },\n",
  "            {\n",
  "                \"name\": \"Bio Ethanol\",\n",
  "                \"energy_density\": 7.8,\n",
  "                \"energy_density_unit\": \"kWh/kg\",\n",
  "                \"efficiency\": 35,\n",
  "                \"efficiency_unit\": \"%\",\n",
  "                \"effective_energy_density\": 273.0,\n",
  "                \"effective_energy_density_unit\": \"kWh/kg\",\n",
  "                \"weight_needed_for_500kwh\": 1.8315018315018314,\n",
  "                \"weight_needed_for_500kwh_unit\": \"kg\"\n",
  "            },\n",
  "            {\n",
  "                \"name\": \"Jet Fuel (Aviation Turbofan)\",\n",
  "                \"energy_density\": 11.9,\n",
  "                \"energy_density_unit\": \"kWh/kg\",\n",
  "                \"efficiency\": 45,\n",
  "                \"efficiency_unit\": \"%\",\n",
  "                \"effective_energy_density\": 535.5,\n",
  "                \"effective_energy_density_unit\": \"kWh/kg\",\n",
  "                \"weight_needed_for_500kwh\": 0.9337068160597572,\n",
  "                \"weight_needed_for_500kwh_unit\": \"kg\"\n",
  "            }\n",
  "        ]\n",
  "    }\n",
  "}\n",
  "'''\n",
  "\n",
  "yny_data_py = json.loads(yny_data_json)\n",
  "yny_item_name = list(yny_data_py)[0]\n",
  "yny_data_without_root_py = yny_data_py[yny_item_name]\n",
  "yny_data_py"
  ],
 "outputs": [],
 "execution_count": 0
},
{
 "cell_type": "markdown",
 "id": "5",
 "metadata": { },
 "source": [
  "### Helpers"
 ],
 "outputs": [],
 "execution_count": 0
},


{
 "cell_type": "code",
 "id": "6",
 "metadata": { "tags": [ "body" ]},
 "source": [
  "def yny_get(data, path):\n",
  "    path_parts = path.split(\"/\")\n",
  "    def yny_path_rec(data, path_parts):\n",
  "        if not path_parts:\n",
  "            return data\n",
  "        if isinstance(data, dict):\n",
  "            if path_parts[0] in data:\n",
  "                return yny_path_rec(data[path_parts[0]], path_parts[1:])\n",
  "        if isinstance(data, list):\n",
  "            if len(data)==1:\n",
  "                return yny_path_rec(data[0], path_parts[1:])\n",
  "        return None\n",
  "    return yny_path_rec(data, path_parts)\n",
  "\n",
  "def yny_get_list(data, path):\n",
  "    path_parts = path.split(\"/\")\n",
  "    def yny_path_rec(data, path_parts, ret):\n",
  "        if not path_parts:\n",
  "            if isinstance(data, list):\n",
  "                ret.extend(data)\n",
  "            else:\n",
  "                ret.append(data)\n",
  "            return\n",
  "        if isinstance(data, dict):\n",
  "            if path_parts[0] in data:\n",
  "                return yny_path_rec(data[path_parts[0]], path_parts[1:], ret)\n",
  "        if isinstance(data, list) and path_parts[0]==\"*\":\n",
  "            for el in data:\n",
  "                yny_path_rec(el, path_parts[1:], ret)\n",
  "        return None\n",
  "    ret = []\n",
  "    yny_path_rec(data, path_parts, ret)\n",
  "    return ret"
  ],
 "outputs": [],
 "execution_count": 0
},
{
 "cell_type": "markdown",
 "id": "7",
 "metadata": { },
 "source": [
  "### JSON Format"
 ],
 "outputs": [],
 "execution_count": 0
},


{
 "cell_type": "code",
 "id": "8",
 "metadata": { "tags": [ "body" ]},
 "source": [
  "json.dumps(yny_data_py)"
  ],
 "outputs": [],
 "execution_count": 0
},
{
 "cell_type": "markdown",
 "id": "9",
 "metadata": { },
 "source": [
  "### YAML Format"
 ],
 "outputs": [],
 "execution_count": 0
},


{
 "cell_type": "code",
 "id": "10",
 "metadata": { "tags": [ "body" ]},
 "source": [
  "import yaml\n",
  "yny_data_yaml = yaml.dump(yny_data_py)\n",
  "print(yny_data_yaml,end=chr(10))"
  ],
 "outputs": [],
 "execution_count": 0
},
{
 "cell_type": "markdown",
 "id": "11",
 "metadata": { },
 "source": [
  "### Pandas Dataframe"
 ],
 "outputs": [],
 "execution_count": 0
},


{
 "cell_type": "code",
 "id": "12",
 "metadata": { "tags": [ "body" ]},
 "source": [
  "yny_data_df = pd.DataFrame({\n",
  "  'name': yny_get_list(yny_data_without_root_py, 'samples/*/name'),\n",
  "  'energy_density_unit': yny_get_list(yny_data_without_root_py, 'samples/*/energy_density_unit'),\n",
  "  'efficiency_unit': yny_get_list(yny_data_without_root_py, 'samples/*/efficiency_unit'),\n",
  "  'effective_energy_density_unit': yny_get_list(yny_data_without_root_py, 'samples/*/effective_energy_density_unit'),\n",
  "  'weight_needed_for_500kwh_unit': yny_get_list(yny_data_without_root_py, 'samples/*/weight_needed_for_500kwh_unit'),\n",
  "  'energy_density': yny_get_list(yny_data_without_root_py, 'samples/*/energy_density'),\n",
  "  'efficiency': yny_get_list(yny_data_without_root_py, 'samples/*/efficiency'),\n",
  "  'effective_energy_density': yny_get_list(yny_data_without_root_py, 'samples/*/effective_energy_density'),\n",
  "  'weight_needed_for_500kwh': yny_get_list(yny_data_without_root_py, 'samples/*/weight_needed_for_500kwh')\n",
  "  \n",
  "})\n",
  "yny_data_df"
  ],
 "outputs": [],
 "execution_count": 0
},
{
 "cell_type": "markdown",
 "id": "13",
 "metadata": { },
 "source": [
  "### CSV Format"
 ],
 "outputs": [],
 "execution_count": 0
},


{
 "cell_type": "code",
 "id": "14",
 "metadata": { "tags": [ "body" ]},
 "source": [
  "print(yny_data_df.to_csv(index=False),end=chr(10))"
  ],
 "outputs": [],
 "execution_count": 0
},
{
 "cell_type": "markdown",
 "id": "15",
 "metadata": { },
 "source": [
  "### Line Chart"
 ],
 "outputs": [],
 "execution_count": 0
},


{
 "cell_type": "code",
 "id": "16",
 "metadata": { "tags": [ "body" ]},
 "source": [
  "chart = alt.Chart(yny_data_df).mark_line().encode(x='energy_density',y='efficiency')\n",
  "chart"
  ],
 "outputs": [],
 "execution_count": 0
},
{
 "cell_type": "markdown",
 "id": "17",
 "metadata": { },
 "source": [
  "### Pie Chart"
 ],
 "outputs": [],
 "execution_count": 0
},


{
 "cell_type": "code",
 "id": "18",
 "metadata": { "tags": [ "body" ]},
 "source": [
  "chart = alt.Chart(yny_data_df).mark_arc().encode(\n",
  " theta=\"energy_density\",\n",
  " color=\"efficiency\"\n",
  ")\n",
  "chart"
  ],
 "outputs": [],
 "execution_count": 0
} ],
 "metadata": {
   "kernelspec": {
    "display_name": "Python 3 (ipykernel)",
    "language": "python",
    "name": "python3"
  }
 },
 "nbformat": 4,
 "nbformat_minor": 5
}