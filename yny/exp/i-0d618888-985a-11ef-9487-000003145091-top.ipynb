{
 "cells": [ 
{
 "cell_type": "markdown",
 "id": "1",
 "metadata": { },
 "source": [
  "# Yanoya Data"
 ],
 "outputs": [],
 "execution_count": 0
},

{
 "cell_type": "markdown",
 "id": "2",
 "metadata": { "tags": [ "tabs" ] },
 "source": [
  "## Data"
 ],
 "outputs": [],
 "execution_count": 0
},
{
 "cell_type": "markdown",
 "id": "3",
 "metadata": { },
 "source": [
  "### Data Source Python"
 ],
 "outputs": [],
 "execution_count": 0
},


{
 "cell_type": "code",
 "id": "4",
 "metadata": { "tags": [ "body" ]},
 "source": [
  "import json\n",
  "import altair as alt\n",
  "import numpy as np\n",
  "import pandas as pd\n",
  "\n",
  "yny_data_json = '''\n",
  "{\n",
  "    \"top\": {\n",
  "        \"atomic_bool\": false,\n",
  "        \"atomic_int\": 1,\n",
  "        \"atomic_float\": 0.11,\n",
  "        \"atomic_str\": \"abc1\",\n",
  "        \"mutable_str\": \"abc2\",\n",
  "        \"immutable_str\": \"constant\",\n",
  "        \"child\": {\n",
  "            \"another_atomic_bool\": true,\n",
  "            \"another_atomic_int\": 2,\n",
  "            \"another_atomic_float\": -0.22,\n",
  "            \"another_atomic_str\": \"abc3\",\n",
  "            \"child\": {\n",
  "                \"name\": \"abc4\",\n",
  "                \"age\": 3\n",
  "            },\n",
  "            \"child_optional\": null,\n",
  "            \"sum\": \"other\",\n",
  "            \"children\": [\n",
  "                {\n",
  "                    \"name\": \"abc5\",\n",
  "                    \"age\": 4\n",
  "                },\n",
  "                {\n",
  "                    \"name\": \"abc6\",\n",
  "                    \"age\": 5\n",
  "                },\n",
  "                {\n",
  "                    \"name\": \"abc7\",\n",
  "                    \"age\": 6\n",
  "                }\n",
  "            ],\n",
  "            \"dict_child_bool\": {}\n",
  "        },\n",
  "        \"child_optional\": {\n",
  "            \"another_atomic_bool\": false,\n",
  "            \"another_atomic_int\": 7,\n",
  "            \"another_atomic_float\": 0.33,\n",
  "            \"another_atomic_str\": \"abc8\",\n",
  "            \"child\": {\n",
  "                \"name\": \"abc9\",\n",
  "                \"age\": 8\n",
  "            },\n",
  "            \"child_optional\": null,\n",
  "            \"sum\": {\n",
  "                \"name\": \"abc10\",\n",
  "                \"age\": 9\n",
  "            },\n",
  "            \"children\": [\n",
  "                {\n",
  "                    \"name\": \"abc11\",\n",
  "                    \"age\": 10\n",
  "                },\n",
  "                {\n",
  "                    \"name\": \"abc12\",\n",
  "                    \"age\": 11\n",
  "                },\n",
  "                {\n",
  "                    \"name\": \"abc13\",\n",
  "                    \"age\": 12\n",
  "                }\n",
  "            ],\n",
  "            \"dict_child_bool\": {}\n",
  "        },\n",
  "        \"enum\": \"this\",\n",
  "        \"enum_list\": [\n",
  "            \"this\",\n",
  "            \"that\",\n",
  "            \"either or\"\n",
  "        ],\n",
  "        \"children\": [\n",
  "            {\n",
  "                \"another_atomic_bool\": true,\n",
  "                \"another_atomic_int\": 13,\n",
  "                \"another_atomic_float\": -0.44,\n",
  "                \"another_atomic_str\": \"abc14\",\n",
  "                \"child\": {\n",
  "                    \"name\": \"abc15\",\n",
  "                    \"age\": 14\n",
  "                },\n",
  "                \"child_optional\": null,\n",
  "                \"sum\": \"other\",\n",
  "                \"children\": [\n",
  "                    {\n",
  "                        \"name\": \"abc16\",\n",
  "                        \"age\": 15\n",
  "                    },\n",
  "                    {\n",
  "                        \"name\": \"abc17\",\n",
  "                        \"age\": 16\n",
  "                    },\n",
  "                    {\n",
  "                        \"name\": \"abc18\",\n",
  "                        \"age\": 17\n",
  "                    }\n",
  "                ],\n",
  "                \"dict_child_bool\": {}\n",
  "            },\n",
  "            {\n",
  "                \"another_atomic_bool\": false,\n",
  "                \"another_atomic_int\": 18,\n",
  "                \"another_atomic_float\": 0.55,\n",
  "                \"another_atomic_str\": \"abc19\",\n",
  "                \"child\": {\n",
  "                    \"name\": \"abc20\",\n",
  "                    \"age\": 19\n",
  "                },\n",
  "                \"child_optional\": null,\n",
  "                \"sum\": {\n",
  "                    \"name\": \"abc21\",\n",
  "                    \"age\": 20\n",
  "                },\n",
  "                \"children\": [\n",
  "                    {\n",
  "                        \"name\": \"abc22\",\n",
  "                        \"age\": 21\n",
  "                    },\n",
  "                    {\n",
  "                        \"name\": \"abc23\",\n",
  "                        \"age\": 22\n",
  "                    },\n",
  "                    {\n",
  "                        \"name\": \"abc24\",\n",
  "                        \"age\": 23\n",
  "                    }\n",
  "                ],\n",
  "                \"dict_child_bool\": {}\n",
  "            },\n",
  "            {\n",
  "                \"another_atomic_bool\": true,\n",
  "                \"another_atomic_int\": 24,\n",
  "                \"another_atomic_float\": -0.66,\n",
  "                \"another_atomic_str\": \"abc25\",\n",
  "                \"child\": {\n",
  "                    \"name\": \"abc26\",\n",
  "                    \"age\": 25\n",
  "                },\n",
  "                \"child_optional\": null,\n",
  "                \"sum\": \"other\",\n",
  "                \"children\": [\n",
  "                    {\n",
  "                        \"name\": \"abc27\",\n",
  "                        \"age\": 26\n",
  "                    },\n",
  "                    {\n",
  "                        \"name\": \"abc28\",\n",
  "                        \"age\": 27\n",
  "                    },\n",
  "                    {\n",
  "                        \"name\": \"abc29\",\n",
  "                        \"age\": 28\n",
  "                    }\n",
  "                ],\n",
  "                \"dict_child_bool\": {}\n",
  "            }\n",
  "        ],\n",
  "        \"dict_str_child\": {\n",
  "            \"abc30\": {\n",
  "                \"another_atomic_bool\": false,\n",
  "                \"another_atomic_int\": 29,\n",
  "                \"another_atomic_float\": 0.77,\n",
  "                \"another_atomic_str\": \"abc31\",\n",
  "                \"child\": {\n",
  "                    \"name\": \"abc32\",\n",
  "                    \"age\": 30\n",
  "                },\n",
  "                \"child_optional\": null,\n",
  "                \"sum\": {\n",
  "                    \"name\": \"abc33\",\n",
  "                    \"age\": 31\n",
  "                },\n",
  "                \"children\": [\n",
  "                    {\n",
  "                        \"name\": \"abc34\",\n",
  "                        \"age\": 32\n",
  "                    },\n",
  "                    {\n",
  "                        \"name\": \"abc35\",\n",
  "                        \"age\": 33\n",
  "                    },\n",
  "                    {\n",
  "                        \"name\": \"abc36\",\n",
  "                        \"age\": 34\n",
  "                    }\n",
  "                ],\n",
  "                \"dict_child_bool\": {}\n",
  "            }\n",
  "        }\n",
  "    }\n",
  "}\n",
  "'''\n",
  "\n",
  "yny_data_py = json.loads(yny_data_json)\n",
  "yny_item_name = list(yny_data_py)[0]\n",
  "yny_data_without_root_py = yny_data_py[yny_item_name]\n",
  "yny_data_py"
  ],
 "outputs": [],
 "execution_count": 0
},
{
 "cell_type": "markdown",
 "id": "5",
 "metadata": { },
 "source": [
  "### Helpers"
 ],
 "outputs": [],
 "execution_count": 0
},


{
 "cell_type": "code",
 "id": "6",
 "metadata": { "tags": [ "body" ]},
 "source": [
  "def yny_get(data, path):\n",
  "    path_parts = path.split(\"/\")\n",
  "    def yny_path_rec(data, path_parts):\n",
  "        if not path_parts:\n",
  "            return data\n",
  "        if isinstance(data, dict):\n",
  "            if path_parts[0] in data:\n",
  "                return yny_path_rec(data[path_parts[0]], path_parts[1:])\n",
  "        if isinstance(data, list):\n",
  "            if len(data)==1:\n",
  "                return yny_path_rec(data[0], path_parts[1:])\n",
  "        return None\n",
  "    return yny_path_rec(data, path_parts)\n",
  "\n",
  "def yny_get_list(data, path):\n",
  "    path_parts = path.split(\"/\")\n",
  "    def yny_path_rec(data, path_parts, ret):\n",
  "        if not path_parts:\n",
  "            if isinstance(data, list):\n",
  "                ret.extend(data)\n",
  "            else:\n",
  "                ret.append(data)\n",
  "            return\n",
  "        if isinstance(data, dict):\n",
  "            if path_parts[0] in data:\n",
  "                return yny_path_rec(data[path_parts[0]], path_parts[1:], ret)\n",
  "        if isinstance(data, list) and path_parts[0]==\"*\":\n",
  "            for el in data:\n",
  "                yny_path_rec(el, path_parts[1:], ret)\n",
  "        return None\n",
  "    ret = []\n",
  "    yny_path_rec(data, path_parts, ret)\n",
  "    return ret"
  ],
 "outputs": [],
 "execution_count": 0
},
{
 "cell_type": "markdown",
 "id": "7",
 "metadata": { },
 "source": [
  "### JSON Format"
 ],
 "outputs": [],
 "execution_count": 0
},


{
 "cell_type": "code",
 "id": "8",
 "metadata": { "tags": [ "body" ]},
 "source": [
  "json.dumps(yny_data_py)"
  ],
 "outputs": [],
 "execution_count": 0
},
{
 "cell_type": "markdown",
 "id": "9",
 "metadata": { },
 "source": [
  "### YAML Format"
 ],
 "outputs": [],
 "execution_count": 0
},


{
 "cell_type": "code",
 "id": "10",
 "metadata": { "tags": [ "body" ]},
 "source": [
  "import yaml\n",
  "yny_data_yaml = yaml.dump(yny_data_py)\n",
  "print(yny_data_yaml,end=chr(10))"
  ],
 "outputs": [],
 "execution_count": 0
},
{
 "cell_type": "markdown",
 "id": "11",
 "metadata": { },
 "source": [
  "### Pandas Dataframe"
 ],
 "outputs": [],
 "execution_count": 0
},


{
 "cell_type": "code",
 "id": "12",
 "metadata": { "tags": [ "body" ]},
 "source": [
  "yny_data_df = pd.DataFrame({\n",
  "  'another_atomic_bool': yny_get_list(yny_data_without_root_py, 'children/*/another_atomic_bool'),\n",
  "  'another_atomic_int': yny_get_list(yny_data_without_root_py, 'children/*/another_atomic_int'),\n",
  "  'child/age': yny_get_list(yny_data_without_root_py, 'children/*/child/age'),\n",
  "  'another_atomic_float': yny_get_list(yny_data_without_root_py, 'children/*/another_atomic_float'),\n",
  "  'another_atomic_str': yny_get_list(yny_data_without_root_py, 'children/*/another_atomic_str'),\n",
  "  'child/name': yny_get_list(yny_data_without_root_py, 'children/*/child/name'),\n",
  "  'sum': yny_get_list(yny_data_without_root_py, 'children/*/sum')\n",
  "  \n",
  "})\n",
  "yny_data_df"
  ],
 "outputs": [],
 "execution_count": 0
},
{
 "cell_type": "markdown",
 "id": "13",
 "metadata": { },
 "source": [
  "### CSV Format"
 ],
 "outputs": [],
 "execution_count": 0
},


{
 "cell_type": "code",
 "id": "14",
 "metadata": { "tags": [ "body" ]},
 "source": [
  "print(yny_data_df.to_csv(index=False),end=chr(10))"
  ],
 "outputs": [],
 "execution_count": 0
},
{
 "cell_type": "markdown",
 "id": "15",
 "metadata": { },
 "source": [
  "### Line Chart"
 ],
 "outputs": [],
 "execution_count": 0
},


{
 "cell_type": "code",
 "id": "16",
 "metadata": { "tags": [ "body" ]},
 "source": [
  "chart = alt.Chart(yny_data_df).mark_line().encode(x='another_atomic_int',y='child/age')\n",
  "chart"
  ],
 "outputs": [],
 "execution_count": 0
},
{
 "cell_type": "markdown",
 "id": "17",
 "metadata": { },
 "source": [
  "### Pie Chart"
 ],
 "outputs": [],
 "execution_count": 0
},


{
 "cell_type": "code",
 "id": "18",
 "metadata": { "tags": [ "body" ]},
 "source": [
  "chart = alt.Chart(yny_data_df).mark_arc().encode(\n",
  " theta=\"another_atomic_int\",\n",
  " color=\"child/age\"\n",
  ")\n",
  "chart"
  ],
 "outputs": [],
 "execution_count": 0
} ],
 "metadata": {
   "kernelspec": {
    "display_name": "Python 3 (ipykernel)",
    "language": "python",
    "name": "python3"
  }
 },
 "nbformat": 4,
 "nbformat_minor": 5
}